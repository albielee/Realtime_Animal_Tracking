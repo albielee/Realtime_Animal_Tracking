{
  "nbformat": 4,
  "nbformat_minor": 0,
  "metadata": {
    "colab": {
      "name": "DataCreation.ipynb",
      "provenance": [],
      "collapsed_sections": [],
      "authorship_tag": "ABX9TyP3+CPAArhTY79Zw3/VaDtT",
      "include_colab_link": true
    },
    "kernelspec": {
      "name": "python3",
      "display_name": "Python 3"
    },
    "language_info": {
      "name": "python"
    }
  },
  "cells": [
    {
      "cell_type": "markdown",
      "metadata": {
        "id": "view-in-github",
        "colab_type": "text"
      },
      "source": [
        "<a href=\"https://colab.research.google.com/github/albielee/Realtime_Animal_Tracking/blob/main/DataCreation.ipynb\" target=\"_parent\"><img src=\"https://colab.research.google.com/assets/colab-badge.svg\" alt=\"Open In Colab\"/></a>"
      ]
    },
    {
      "cell_type": "code",
      "metadata": {
        "colab": {
          "base_uri": "https://localhost:8080/"
        },
        "id": "zTNRDcygXMmK",
        "outputId": "18827276-3357-41a7-8abb-2d34eb3a7e22"
      },
      "source": [
        "pip install imgaug"
      ],
      "execution_count": 1,
      "outputs": [
        {
          "output_type": "stream",
          "text": [
            "Requirement already satisfied: imgaug in /usr/local/lib/python3.7/dist-packages (0.2.9)\n",
            "Requirement already satisfied: numpy>=1.15.0 in /usr/local/lib/python3.7/dist-packages (from imgaug) (1.19.5)\n",
            "Requirement already satisfied: matplotlib in /usr/local/lib/python3.7/dist-packages (from imgaug) (3.2.2)\n",
            "Requirement already satisfied: scikit-image>=0.11.0 in /usr/local/lib/python3.7/dist-packages (from imgaug) (0.16.2)\n",
            "Requirement already satisfied: opencv-python in /usr/local/lib/python3.7/dist-packages (from imgaug) (4.1.2.30)\n",
            "Requirement already satisfied: scipy in /usr/local/lib/python3.7/dist-packages (from imgaug) (1.4.1)\n",
            "Requirement already satisfied: imageio in /usr/local/lib/python3.7/dist-packages (from imgaug) (2.4.1)\n",
            "Requirement already satisfied: Shapely in /usr/local/lib/python3.7/dist-packages (from imgaug) (1.7.1)\n",
            "Requirement already satisfied: Pillow in /usr/local/lib/python3.7/dist-packages (from imgaug) (7.0.0)\n",
            "Requirement already satisfied: six in /usr/local/lib/python3.7/dist-packages (from imgaug) (1.15.0)\n",
            "Requirement already satisfied: pyparsing!=2.0.4,!=2.1.2,!=2.1.6,>=2.0.1 in /usr/local/lib/python3.7/dist-packages (from matplotlib->imgaug) (2.4.7)\n",
            "Requirement already satisfied: kiwisolver>=1.0.1 in /usr/local/lib/python3.7/dist-packages (from matplotlib->imgaug) (1.3.1)\n",
            "Requirement already satisfied: cycler>=0.10 in /usr/local/lib/python3.7/dist-packages (from matplotlib->imgaug) (0.10.0)\n",
            "Requirement already satisfied: python-dateutil>=2.1 in /usr/local/lib/python3.7/dist-packages (from matplotlib->imgaug) (2.8.1)\n",
            "Requirement already satisfied: networkx>=2.0 in /usr/local/lib/python3.7/dist-packages (from scikit-image>=0.11.0->imgaug) (2.5)\n",
            "Requirement already satisfied: PyWavelets>=0.4.0 in /usr/local/lib/python3.7/dist-packages (from scikit-image>=0.11.0->imgaug) (1.1.1)\n",
            "Requirement already satisfied: decorator>=4.3.0 in /usr/local/lib/python3.7/dist-packages (from networkx>=2.0->scikit-image>=0.11.0->imgaug) (4.4.2)\n"
          ],
          "name": "stdout"
        }
      ]
    },
    {
      "cell_type": "code",
      "metadata": {
        "id": "tafXRu4sZHN5"
      },
      "source": [
        "import glob\n",
        "import random\n",
        "from PIL import Image\n",
        "from PIL import ImageEnhance\n",
        "import imgaug\n",
        "import sys"
      ],
      "execution_count": 5,
      "outputs": []
    },
    {
      "cell_type": "code",
      "metadata": {
        "id": "Q4M1zSeJc5oJ"
      },
      "source": [
        "def calculate_brightness(image, x1, y1, x2, y2):\n",
        "    greyscale_image = image.convert('L')\n",
        "    cropped_image = greyscale_image.crop((x1,y1,x2,y2))\n",
        "    histogram = cropped_image.histogram()\n",
        "    pixels = sum(histogram)\n",
        "    brightness = scale = len(histogram)\n",
        "\n",
        "    for index in range(0, scale):\n",
        "        ratio = histogram[index] / pixels\n",
        "        brightness += ratio * (-scale + index)\n",
        "\n",
        "    return 1 if brightness == 255 else brightness / scale\n",
        "\n",
        "def match_brightness(image, brightness):\n",
        "  width, height = bg_image.size\n",
        "  image_brightness = calculate_brightness(image, 0,0,width,height)\n",
        "  brightness_dif = brightness-image_brightness\n",
        "\n",
        "  rgb_im = image.convert('RGB')\n",
        "  #Modify the brightness of each pixel in the image\n",
        "  for x in range(0, width):\n",
        "    for y in range(0, height):\n",
        "      r, g, b = rgb_im.getpixel((x, y))\n",
        "      r = r*brightness_dif\n",
        "      if(r > 255.0):\n",
        "        r=255.0\n",
        "      if(r < 0.0):\n",
        "        r=0\n",
        "      g = g*brightness_dif\n",
        "      if(g > 255.0):\n",
        "        g=255.0\n",
        "      if(g < 0.0):\n",
        "        g=0\n",
        "      b = b*brightness_dif\n",
        "      if(b > 255.0):\n",
        "        b=255.0\n",
        "      if(b < 0.0):\n",
        "        b=0\n",
        "\n",
        "      image[x, y] = (r, g, b)\n",
        "\n",
        "  return image"
      ],
      "execution_count": null,
      "outputs": []
    },
    {
      "cell_type": "code",
      "metadata": {
        "colab": {
          "base_uri": "https://localhost:8080/",
          "height": 350
        },
        "id": "8WYL_CcGXqeS",
        "outputId": "6c4fbfea-b43c-4915-fee2-76ac6388ded9"
      },
      "source": [
        "\n",
        "\n",
        "\n",
        "\n",
        "#get forest landscape background images\n",
        "\n",
        "#for image in images:\n",
        "\n",
        "TYPES = [\"chimp\",\"bear\"]\n",
        "\n",
        "image_data = 'image_data.csv'\n",
        "\n",
        "for t in TYPES:\n",
        "  #Get images of type\n",
        "\n",
        "  #get bounding boxes of type\n",
        "\n",
        "  for bg_image in backgrounds:\n",
        "    width, height = bg_image.size\n",
        "    for ind, img in enumerate(images):\n",
        "      #image bounding box = dir(i)\n",
        "\n",
        "      #Get a copy of the background to paste on\n",
        "      bg_copy = bg_image.copy()\n",
        "      margin_size = 40\n",
        "\n",
        "      #paste the image somewhere in the background\n",
        "      x = random.randint(margin_size, width-margin_size)\n",
        "      y = random.randint(margin_size, height-margin_size)\n",
        "\n",
        "      #Get image dimensions\n",
        "      im_width, im_height = img.size\n",
        "      #Get brightness of background region\n",
        "      bg_region_brightness = calculate_brightness(bg_copy, x, y, x+im_width, y+im_height)\n",
        "      #Match the images brightness with the background region\n",
        "      img = match_brightness(img, bg_region_brightness)\n",
        "\n",
        "      bg_copy.paste(img, (x, y, x+im_width, y+im_height))\n",
        "\n",
        "      #Save the image\n",
        "      img_name = t + str(ind) + \"_augmented\"\n",
        "      bg_copy.save(img_name, 'PNG')\n",
        "\n",
        "      #Save the corresponding bounding box ground truth, image name and class\n",
        "      with open(image_data,'a+') as fd:\n",
        "        fd.write(img_name+\",\"+ (\"\\\"\",[x, y, x+im_width, y+im_height],\"\\\"\"), class_id)\n"
      ],
      "execution_count": 4,
      "outputs": [
        {
          "output_type": "error",
          "ename": "FileNotFoundError",
          "evalue": "ignored",
          "traceback": [
            "\u001b[0;31m---------------------------------------------------------------------------\u001b[0m",
            "\u001b[0;31mFileNotFoundError\u001b[0m                         Traceback (most recent call last)",
            "\u001b[0;32m<ipython-input-4-e9dfe88f7950>\u001b[0m in \u001b[0;36m<module>\u001b[0;34m()\u001b[0m\n\u001b[1;32m      2\u001b[0m \u001b[0;32mimport\u001b[0m \u001b[0mrandom\u001b[0m\u001b[0;34m\u001b[0m\u001b[0;34m\u001b[0m\u001b[0m\n\u001b[1;32m      3\u001b[0m \u001b[0;32mfrom\u001b[0m \u001b[0mPIL\u001b[0m \u001b[0;32mimport\u001b[0m \u001b[0mImage\u001b[0m\u001b[0;34m\u001b[0m\u001b[0;34m\u001b[0m\u001b[0m\n\u001b[0;32m----> 4\u001b[0;31m \u001b[0mimg_bg\u001b[0m \u001b[0;34m=\u001b[0m \u001b[0mImage\u001b[0m\u001b[0;34m.\u001b[0m\u001b[0mopen\u001b[0m\u001b[0;34m(\u001b[0m\u001b[0;34m'circle.jpg'\u001b[0m\u001b[0;34m)\u001b[0m\u001b[0;34m\u001b[0m\u001b[0;34m\u001b[0m\u001b[0m\n\u001b[0m\u001b[1;32m      5\u001b[0m \u001b[0mwidth\u001b[0m\u001b[0;34m,\u001b[0m \u001b[0mheight\u001b[0m \u001b[0;34m=\u001b[0m \u001b[0mimg_bg\u001b[0m\u001b[0;34m.\u001b[0m\u001b[0msize\u001b[0m\u001b[0;34m\u001b[0m\u001b[0;34m\u001b[0m\u001b[0m\n\u001b[1;32m      6\u001b[0m \u001b[0mimages\u001b[0m \u001b[0;34m=\u001b[0m \u001b[0mglob\u001b[0m\u001b[0;34m.\u001b[0m\u001b[0mglob\u001b[0m\u001b[0;34m(\u001b[0m\u001b[0;34m'*.png'\u001b[0m\u001b[0;34m)\u001b[0m\u001b[0;34m\u001b[0m\u001b[0;34m\u001b[0m\u001b[0m\n",
            "\u001b[0;32m/usr/local/lib/python3.7/dist-packages/PIL/Image.py\u001b[0m in \u001b[0;36mopen\u001b[0;34m(fp, mode)\u001b[0m\n\u001b[1;32m   2807\u001b[0m \u001b[0;34m\u001b[0m\u001b[0m\n\u001b[1;32m   2808\u001b[0m     \u001b[0;32mif\u001b[0m \u001b[0mfilename\u001b[0m\u001b[0;34m:\u001b[0m\u001b[0;34m\u001b[0m\u001b[0;34m\u001b[0m\u001b[0m\n\u001b[0;32m-> 2809\u001b[0;31m         \u001b[0mfp\u001b[0m \u001b[0;34m=\u001b[0m \u001b[0mbuiltins\u001b[0m\u001b[0;34m.\u001b[0m\u001b[0mopen\u001b[0m\u001b[0;34m(\u001b[0m\u001b[0mfilename\u001b[0m\u001b[0;34m,\u001b[0m \u001b[0;34m\"rb\"\u001b[0m\u001b[0;34m)\u001b[0m\u001b[0;34m\u001b[0m\u001b[0;34m\u001b[0m\u001b[0m\n\u001b[0m\u001b[1;32m   2810\u001b[0m         \u001b[0mexclusive_fp\u001b[0m \u001b[0;34m=\u001b[0m \u001b[0;32mTrue\u001b[0m\u001b[0;34m\u001b[0m\u001b[0;34m\u001b[0m\u001b[0m\n\u001b[1;32m   2811\u001b[0m \u001b[0;34m\u001b[0m\u001b[0m\n",
            "\u001b[0;31mFileNotFoundError\u001b[0m: [Errno 2] No such file or directory: 'circle.jpg'"
          ]
        }
      ]
    }
  ]
}